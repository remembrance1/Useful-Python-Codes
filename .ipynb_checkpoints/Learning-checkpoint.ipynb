{
 "cells": [
  {
   "cell_type": "code",
   "execution_count": null,
   "metadata": {},
   "outputs": [],
   "source": [
    "sentence = 'From stephen.marquard@uct.ac.za Sat Jan  5 09:14:16 2008'\n",
    "\n",
    "sentence.split()[1].split('@')[1].split('.')[2]"
   ]
  },
  {
   "cell_type": "code",
   "execution_count": null,
   "metadata": {},
   "outputs": [],
   "source": [
    "counts = dict()\n",
    "names = ['csev', 'cwen', 'csev', 'zqian', 'cwen']\n",
    "for name in names :\n",
    "    if name not in counts: \n",
    "        counts[name] = 1\n",
    "    else :\n",
    "        counts[name] = counts[name] + 1\n",
    "print(counts)\n"
   ]
  },
  {
   "cell_type": "code",
   "execution_count": null,
   "metadata": {},
   "outputs": [],
   "source": [
    "#Counts the number of words there are in a sentence using Dictionary\n",
    "\n",
    "counts = {} #initialize with a dictionary\n",
    "\n",
    "print('Write a sentence', '\\n')\n",
    "sentence = input('')\n",
    "if len(sentence) > 0:\n",
    "    words = sentence.split()\n",
    "    for word in words:\n",
    "        counts[word] = counts.get(word, 0) + 1\n",
    "    for key in counts: #will print out the word count in a nicer format \n",
    "        print('\\n', key, counts[key])\n",
    "else:\n",
    "    print('You need to type something!')"
   ]
  },
  {
   "cell_type": "code",
   "execution_count": 55,
   "metadata": {
    "scrolled": true
   },
   "outputs": [
    {
     "data": {
      "text/plain": [
       "('dog', 1)"
      ]
     },
     "execution_count": 55,
     "metadata": {},
     "output_type": "execute_result"
    }
   ],
   "source": [
    "sent = 'hey my my hey hey hey when my dog died died'\n",
    "words = sent.split()\n",
    "counts = {}\n",
    "\n",
    "for word in words:\n",
    "    counts[word] = counts.get(word, 0) + 1\n",
    "    sorted_by_value = sorted(counts.items(), reverse = True, key=lambda kv: kv[1]) \n",
    "for elem in sorted_by_value:\n",
    "    type(elem)\n",
    "\n",
    "elem\n",
    "#print(max(counts, key=counts.get), counts[max(counts, key=counts.get)]) #get the key with the max. key value"
   ]
  },
  {
   "cell_type": "code",
   "execution_count": null,
   "metadata": {},
   "outputs": [],
   "source": [
    "    counts = dict((y, x) for x, y in sorted_by_value) #convert back to dictionary\n",
    "for key in counts: #will print out the word count in a nicer format \n",
    "    print('\\n', key, counts[key])\n"
   ]
  },
  {
   "cell_type": "code",
   "execution_count": 5,
   "metadata": {
    "scrolled": true
   },
   "outputs": [],
   "source": [
    "# Create templates\n",
    "bot_template = \"BOT : {0}\"\n",
    "user_template = \"USER : {0}\"\n",
    "\n",
    "# Define a function that respond to message\n",
    "def respond(msg):\n",
    "    # Concatenate the user's message to the end of a standard bot respone\n",
    "    bot_message = \"I can hear you! You said: \" + msg\n",
    "    # Return the result\n",
    "    return bot_message\n",
    "\n",
    "# Define a function that sends a message to the bot: send_message\n",
    "def send_message(msg):\n",
    "    # Print user_template including the user_message\n",
    "    print(user_template.format(msg))\n",
    "    # Get the bot's response to the message\n",
    "    response = respond(msg)\n",
    "    # Print the bot template including the bot's response.\n",
    "    print(bot_template.format(response))\n",
    "    \n"
   ]
  },
  {
   "cell_type": "code",
   "execution_count": 7,
   "metadata": {},
   "outputs": [
    {
     "name": "stdout",
     "output_type": "stream",
     "text": [
      "91\n",
      "94\n",
      "94\n",
      "94\n",
      "98\n",
      "96\n",
      "98\n",
      "92\n"
     ]
    }
   ],
   "source": [
    "numbers = [76, 83, 16, 69, 52, 78, 10, 77, 45, 52, 32, 17, 58, 54, 79, 72, 55, 50, 81, 74, 45, 33, 38, 10, 40, 44, 70, 81, 79, 28, 83, 41, 14, 16, 27, 38, 20, 84, 24, 50, 59, 71, 1, 13, 56, 91, 29, 54, 65, 23, 60, 57, 13, 39, 58, 94, 94, 42, 46, 58, 59, 29, 69, 60, 83, 9, 83, 5, 64, 70, 55, 89, 67, 89, 70, 8, 90, 17, 48, 17, 94, 18, 98, 72, 96, 26, 13, 7, 58, 67, 38, 48, 43, 98, 65, 8, 74, 44, 92]\n",
    "\n",
    "for num in numbers:\n",
    "    if num > 90:\n",
    "        print(num)"
   ]
  },
  {
   "cell_type": "code",
   "execution_count": 2,
   "metadata": {},
   "outputs": [
    {
     "data": {
      "text/plain": [
       "['In',\n",
       " 'Out',\n",
       " '_',\n",
       " '_1',\n",
       " '__',\n",
       " '___',\n",
       " '__builtin__',\n",
       " '__builtins__',\n",
       " '__doc__',\n",
       " '__loader__',\n",
       " '__name__',\n",
       " '__package__',\n",
       " '__spec__',\n",
       " '_dh',\n",
       " '_i',\n",
       " '_i1',\n",
       " '_i2',\n",
       " '_ih',\n",
       " '_ii',\n",
       " '_iii',\n",
       " '_oh',\n",
       " 'exit',\n",
       " 'get_ipython',\n",
       " 'quit',\n",
       " 't']"
      ]
     },
     "execution_count": 2,
     "metadata": {},
     "output_type": "execute_result"
    }
   ],
   "source": [
    "t = []\n",
    "dir() # returns all the methods that can be used with that object type"
   ]
  },
  {
   "cell_type": "code",
   "execution_count": null,
   "metadata": {},
   "outputs": [],
   "source": [
    "Pandas offers an extensive Comparison with R / R libraries. The most obvious difference is that R prefers functional programming while Pandas is object orientated, with the data frame as the key object. Another difference between R and Python is that Python starts arrays at 0, but R at 1.\n",
    "\n",
    "R               | Pandas\n",
    "-------------------------------\n",
    "summary(df)     | df.describe()\n",
    "head(df)        | df.head()\n",
    "dim(df)         | df.shape\n",
    "slice(df, 1:10) | df.iloc[:9]\n",
    "str(df)         | df.dtypes"
   ]
  }
 ],
 "metadata": {
  "kernelspec": {
   "display_name": "Python 3",
   "language": "python",
   "name": "python3"
  },
  "language_info": {
   "codemirror_mode": {
    "name": "ipython",
    "version": 3
   },
   "file_extension": ".py",
   "mimetype": "text/x-python",
   "name": "python",
   "nbconvert_exporter": "python",
   "pygments_lexer": "ipython3",
   "version": "3.7.0"
  }
 },
 "nbformat": 4,
 "nbformat_minor": 2
}
